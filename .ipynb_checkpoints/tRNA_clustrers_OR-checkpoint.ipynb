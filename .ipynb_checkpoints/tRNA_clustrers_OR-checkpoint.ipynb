{
 "cells": [
  {
   "cell_type": "code",
   "execution_count": 5,
   "id": "918adb03",
   "metadata": {},
   "outputs": [],
   "source": [
    "import os\n",
    "import csv\n",
    "from collections import defaultdict\n",
    "\n",
    "folder_path = 'C:\\\\Users\\\\Kasia\\Documents\\\\Bachelor_thesis\\\\tRNA_clusters\\\\'\n",
    "file_name = 'thuringiensis_clusters.txt' \n",
    "file_path = os.path.join(folder_path, file_name)\n",
    "\n",
    "clusters = []\n",
    "\n",
    "file = open(file_path, \"r\")\n",
    "while file:\n",
    "    line = file.readline().strip()\n",
    "    if line == '':\n",
    "        break\n",
    "\n",
    "    line_codons = [line[i:i+3] for i in range(0, len(line) - 1, 3)]\n",
    "    clusters.append(line_codons)\n",
    "\n",
    "# print(clusters)\n",
    "all_codons = set()\n",
    "\n",
    "for cluster in clusters:\n",
    "    for codon in cluster:\n",
    "        all_codons.add(codon)\n",
    "\n",
    "# print(all_codons)\n",
    "# res(c1,c2) = (p(c1 & c2) / p(c1) * p(c2))\n",
    "\n",
    "p_single = defaultdict(int)\n",
    "p_double = defaultdict(lambda: defaultdict(int))\n",
    "\n",
    "for codon in all_codons:\n",
    "    counts_of_occurs = 0\n",
    "    for cluster in clusters:\n",
    "        if codon in cluster:\n",
    "            counts_of_occurs += 1\n",
    "\n",
    "    p_single[codon] = counts_of_occurs / len(clusters)\n",
    "\n",
    "# print(p_single)\n",
    "\n",
    "for codon1 in all_codons:\n",
    "    for codon2 in all_codons:\n",
    "        counts_of_occurs = 0\n",
    "        for cluster in clusters:\n",
    "            if (codon1 in cluster) and (codon2 in cluster):\n",
    "                counts_of_occurs += 1\n",
    "        p_double[codon1][codon2] = counts_of_occurs / len(clusters)\n",
    "\n",
    "# print(p_double)\n",
    "res = defaultdict(lambda: defaultdict(int))\n",
    "\n",
    "for codon1 in all_codons:\n",
    "    for codon2 in all_codons:\n",
    "        res[codon1][codon2] = p_double[codon1][codon2] / (p_single[codon1] * p_single[codon2])\n",
    "\n",
    "# print(res)"
   ]
  },
  {
   "cell_type": "code",
   "execution_count": 6,
   "id": "c8587e4c",
   "metadata": {},
   "outputs": [
    {
     "name": "stdout",
     "output_type": "stream",
     "text": [
      "Results saved to C:\\Users\\Kasia\\Documents\\Bachelor_thesis\\tRNA_clustrers_OR\\thuringiensis_clusters_probabilities.csv\n"
     ]
    }
   ],
   "source": [
    "import os\n",
    "path = 'C:\\\\Users\\\\Kasia\\Documents\\\\Bachelor_thesis\\\\tRNA_clustrers_OR'\n",
    "bacteria_name = 'thuringiensis'\n",
    "merge_result_file_path = os.path.join(path, bacteria_name + '_clusters_probabilities.csv')\n",
    "\n",
    "all_sorted_codons = sorted(all_codons)\n",
    "\n",
    "with open(merge_result_file_path, 'w', newline='') as f:\n",
    "    w = csv.writer(f)\n",
    "    w.writerow(['codon1', 'codon2', 'probability'])\n",
    "\n",
    "    for codon1 in all_sorted_codons:\n",
    "        for codon2 in all_sorted_codons:\n",
    "            if codon2 in res[codon1]:\n",
    "                w.writerow([codon1, codon2, res[codon1][codon2]])\n",
    "\n",
    "print(\"Results saved to\", merge_result_file_path)"
   ]
  }
 ],
 "metadata": {
  "kernelspec": {
   "display_name": "Python 3 (ipykernel)",
   "language": "python",
   "name": "python3"
  },
  "language_info": {
   "codemirror_mode": {
    "name": "ipython",
    "version": 3
   },
   "file_extension": ".py",
   "mimetype": "text/x-python",
   "name": "python",
   "nbconvert_exporter": "python",
   "pygments_lexer": "ipython3",
   "version": "3.11.1"
  }
 },
 "nbformat": 4,
 "nbformat_minor": 5
}
