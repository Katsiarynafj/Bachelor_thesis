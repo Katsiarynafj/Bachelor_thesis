{
 "cells": [
  {
   "cell_type": "code",
   "execution_count": 18,
   "id": "77b88723",
   "metadata": {},
   "outputs": [
    {
     "ename": "FileNotFoundError",
     "evalue": "[Errno 2] No such file or directory: '/Users/udz/Desktop/codons_analysis\\\\clusters_probabilities\\\\cereus_clusters_probabilities.csv'",
     "output_type": "error",
     "traceback": [
      "\u001b[1;31m---------------------------------------------------------------------------\u001b[0m",
      "\u001b[1;31mFileNotFoundError\u001b[0m                         Traceback (most recent call last)",
      "\u001b[1;32m~\\AppData\\Local\\Temp\\ipykernel_40772\\3546143400.py\u001b[0m in \u001b[0;36m<module>\u001b[1;34m\u001b[0m\n\u001b[0;32m     29\u001b[0m \u001b[0mclusters_data\u001b[0m \u001b[1;33m=\u001b[0m \u001b[0mdefaultdict\u001b[0m\u001b[1;33m(\u001b[0m\u001b[1;32mlambda\u001b[0m\u001b[1;33m:\u001b[0m \u001b[0mdefaultdict\u001b[0m\u001b[1;33m(\u001b[0m\u001b[0mint\u001b[0m\u001b[1;33m)\u001b[0m\u001b[1;33m)\u001b[0m\u001b[1;33m\u001b[0m\u001b[1;33m\u001b[0m\u001b[0m\n\u001b[0;32m     30\u001b[0m \u001b[1;33m\u001b[0m\u001b[0m\n\u001b[1;32m---> 31\u001b[1;33m \u001b[1;32mwith\u001b[0m \u001b[0mopen\u001b[0m\u001b[1;33m(\u001b[0m\u001b[0mclusters_result_file_path\u001b[0m\u001b[1;33m,\u001b[0m \u001b[0mnewline\u001b[0m\u001b[1;33m=\u001b[0m\u001b[1;34m''\u001b[0m\u001b[1;33m)\u001b[0m \u001b[1;32mas\u001b[0m \u001b[0mcsvfile\u001b[0m\u001b[1;33m:\u001b[0m\u001b[1;33m\u001b[0m\u001b[1;33m\u001b[0m\u001b[0m\n\u001b[0m\u001b[0;32m     32\u001b[0m     \u001b[0mreader\u001b[0m \u001b[1;33m=\u001b[0m \u001b[0mcsv\u001b[0m\u001b[1;33m.\u001b[0m\u001b[0mDictReader\u001b[0m\u001b[1;33m(\u001b[0m\u001b[0mcsvfile\u001b[0m\u001b[1;33m)\u001b[0m\u001b[1;33m\u001b[0m\u001b[1;33m\u001b[0m\u001b[0m\n\u001b[0;32m     33\u001b[0m     \u001b[1;32mfor\u001b[0m \u001b[0mrow\u001b[0m \u001b[1;32min\u001b[0m \u001b[0mreader\u001b[0m\u001b[1;33m:\u001b[0m\u001b[1;33m\u001b[0m\u001b[1;33m\u001b[0m\u001b[0m\n",
      "\u001b[1;31mFileNotFoundError\u001b[0m: [Errno 2] No such file or directory: '/Users/udz/Desktop/codons_analysis\\\\clusters_probabilities\\\\cereus_clusters_probabilities.csv'"
     ]
    }
   ],
   "source": [
    "import os\n",
    "import csv\n",
    "from collections import defaultdict\n",
    "\n",
    "folder_path = '/Users/udz/Desktop/codons_analysis'\n",
    "clusters_path = 'clusters_probabilities'\n",
    "transcripts_pats = 'transcripts_probabilities'\n",
    "merge_result_path = 'clusters_transcriptes_probabilities_cereus_pairings'\n",
    "bacteria_name = 'cereus'\n",
    "\n",
    "clusters_result_file_path = os.path.join(folder_path, clusters_path, bacteria_name + '_clusters_probabilities.csv')\n",
    "transcripts_result_file_path = os.path.join(folder_path, transcripts_pats, bacteria_name + '.fna_probabilities.csv')\n",
    "pairings = {\n",
    "    'metUGG': {\n",
    "        'CCC': 'CCA',\n",
    "        'CCT': 'CCA',\n",
    "        'CCG': 'CCA'\n",
    "    },\n",
    "    'metUAC': {\n",
    "        'GTG': 'GTA',\n",
    "        'GTT': 'GTA'\n",
    "    },\n",
    "    'ICG_ACG': {\n",
    "        'CGC': 'CGT',\n",
    "        'CGA': 'CGT',\n",
    "        'CGG': 'CGT'\n",
    "    }\n",
    "}\n",
    "clusters_data = defaultdict(lambda: defaultdict(int))\n",
    "\n",
    "with open(clusters_result_file_path, newline='') as csvfile:\n",
    "    reader = csv.DictReader(csvfile)\n",
    "    for row in reader:\n",
    "        clusters_data[row['codon1']][row['codon2']] = row['probability']\n",
    "transcripts_data = defaultdict(lambda: defaultdict(int))\n",
    "\n",
    "with open(transcripts_result_file_path, newline='') as csvfile:\n",
    "    reader = csv.DictReader(csvfile)\n",
    "    for row in reader:\n",
    "        transcripts_data[row['codon1']][row['codon2']] = row['probability']\n",
    "for file_suffix in pairings:\n",
    "    merge_result_file_path = os.path.join(folder_path, merge_result_path, bacteria_name + '_' + file_suffix + '.csv')\n",
    "    file_mapping = pairings[file_suffix]\n",
    "\n",
    "    with open(merge_result_file_path, 'w') as f:\n",
    "        w = csv.writer(f)\n",
    "        w.writerow(['codon1', 'codon2', 'transcripts_probability', 'clusters_probability'])\n",
    "        written_codons = set()\n",
    "    \n",
    "        for codon1 in transcripts_data:\n",
    "            for codon2 in transcripts_data[codon1]:\n",
    "                if file_mapping.get(codon1) and clusters_data[codon1]:\n",
    "                    from_codon_1 = file_mapping.get(codon1)\n",
    "                    w.writerow([codon1, codon2, transcripts_data[codon1][codon2], clusters_data[from_codon_1][codon2]])\n",
    "                elif file_mapping.get(codon2) and clusters_data[codon2]:\n",
    "                    from_codon_2 = file_mapping.get(codon2)\n",
    "                    w.writerow([codon1, codon2, transcripts_data[codon1][codon2], clusters_data[codon1][from_codon_2]])\n",
    "                else:\n",
    "                    w.writerow([codon1, codon2, transcripts_data[codon1][codon2], clusters_data[codon1][codon2]])"
   ]
  }
 ],
 "metadata": {
  "kernelspec": {
   "display_name": "Python 3 (ipykernel)",
   "language": "python",
   "name": "python3"
  },
  "language_info": {
   "codemirror_mode": {
    "name": "ipython",
    "version": 3
   },
   "file_extension": ".py",
   "mimetype": "text/x-python",
   "name": "python",
   "nbconvert_exporter": "python",
   "pygments_lexer": "ipython3",
   "version": "3.9.13"
  }
 },
 "nbformat": 4,
 "nbformat_minor": 5
}
