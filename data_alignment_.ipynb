{
 "cells": [
  {
   "cell_type": "code",
   "execution_count": null,
   "id": "0d0879a2",
   "metadata": {},
   "outputs": [],
   "source": [
    "import os\n",
    "import csv\n",
    "from collections import defaultdict\n",
    "\n",
    "folder_path = 'C:\\\\Users\\\\Kasia\\\\OneDrive\\\\'\n",
    "clusters_path = 'clusters_probabilities'\n",
    "transcripts_pats = 'transcripts_probabilities'\n",
    "merge_result_path = 'clusters_transcriptes_probabilities'\n",
    "bacteria_name = 'thuringiensis'\n",
    "\n",
    "clusters_result_file_path = os.path.join(folder_path, bacteria_name + '_clusters_probabilities.csv')\n",
    "transcripts_result_file_path = os.path.join(folder_path, bacteria_name + '_transcripts_probabilities.csv')\n",
    "merge_result_file_path = os.path.join(folder_path, bacteria_name + '_result.csv')\n",
    "clusters_data = defaultdict(lambda: defaultdict(int))\n",
    "\n",
    "with open(clusters_result_file_path, newline='') as csvfile:\n",
    "    reader = csv.DictReader(csvfile)\n",
    "    for row in reader:\n",
    "        clusters_data[row['codon1']][row['codon2']] = row['probability']\n",
    "transcripts_data = defaultdict(lambda: defaultdict(int))\n",
    "\n",
    "with open(transcripts_result_file_path, newline='') as csvfile:\n",
    "    reader = csv.DictReader(csvfile)\n",
    "    for row in reader:\n",
    "        transcripts_data[row['codon1']][row['codon2']] = row['probability']\n",
    "with open(merge_result_file_path, 'w') as f:\n",
    "    w = csv.writer(f)\n",
    "    w.writerow(['codon1', 'codon2', 'transcripts_probability', 'clusters_probability'])\n",
    "    written_codons = set()\n",
    "\n",
    "    for codon1 in transcripts_data:\n",
    "        for codon2 in transcripts_data[codon1]:\n",
    "            w.writerow([codon1, codon2, transcripts_data[codon1][codon2], clusters_data[codon1][codon2]])"
   ]
  }
 ],
 "metadata": {
  "kernelspec": {
   "display_name": "Python 3 (ipykernel)",
   "language": "python",
   "name": "python3"
  },
  "language_info": {
   "codemirror_mode": {
    "name": "ipython",
    "version": 3
   },
   "file_extension": ".py",
   "mimetype": "text/x-python",
   "name": "python",
   "nbconvert_exporter": "python",
   "pygments_lexer": "ipython3",
   "version": "3.9.13"
  }
 },
 "nbformat": 4,
 "nbformat_minor": 5
}
